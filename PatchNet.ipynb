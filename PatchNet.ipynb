{
  "cells": [
    {
      "cell_type": "code",
      "execution_count": 12,
      "metadata": {
        "id": "ACJRSdkJjhKB",
        "colab": {
          "base_uri": "https://localhost:8080/"
        },
        "outputId": "6e697585-ac49-4340-d9f9-1d7b4fbb3328"
      },
      "outputs": [
        {
          "output_type": "stream",
          "name": "stdout",
          "text": [
            "Drive already mounted at /content/drive; to attempt to forcibly remount, call drive.mount(\"/content/drive\", force_remount=True).\n"
          ]
        }
      ],
      "source": [
        "from google.colab import drive\n",
        "drive.mount('/content/drive')"
      ]
    },
    {
      "cell_type": "code",
      "execution_count": 13,
      "metadata": {
        "id": "LYttvZIriFLg"
      },
      "outputs": [],
      "source": [
        "import torch\n",
        "import torch.nn as nn\n",
        "import torch.optim as optim\n",
        "from torch.optim import lr_scheduler\n",
        "import torch.backends.cudnn as cudnn\n",
        "import numpy as np\n",
        "import torchvision\n",
        "from torchvision import datasets, models, transforms\n",
        "import matplotlib.pyplot as plt\n",
        "import time\n",
        "import os\n",
        "import copy"
      ]
    },
    {
      "cell_type": "code",
      "execution_count": 14,
      "metadata": {
        "id": "m2_bVrNpi1_-",
        "colab": {
          "base_uri": "https://localhost:8080/"
        },
        "outputId": "39fe25d7-9f65-462b-db00-697934b944ee"
      },
      "outputs": [
        {
          "output_type": "execute_result",
          "data": {
            "text/plain": [
              "device(type='cuda', index=0)"
            ]
          },
          "metadata": {},
          "execution_count": 14
        }
      ],
      "source": [
        "device = torch.device(\"cuda:0\" if torch.cuda.is_available() else \"cpu\")\n",
        "device"
      ]
    },
    {
      "cell_type": "code",
      "execution_count": 15,
      "metadata": {
        "id": "O0WAu0Qei3o9"
      },
      "outputs": [],
      "source": [
        "import torch\n",
        "import torch.nn as nn\n",
        "import torch.nn.functional as F\n",
        "\n",
        "live_lbls = [0,1,6]\n",
        "class AsymAdditiveMarginSoftmax(nn.Module):\n",
        "    def __init__(self, in_features, out_features, s=30, ml=0.4,ms=0.1):\n",
        "        super(AsymAdditiveMarginSoftmax, self).__init__()\n",
        "        self.s = s\n",
        "        self.ml = ml\n",
        "        self.ms = ms\n",
        "        self.in_features = in_features\n",
        "        self.out_features = out_features\n",
        "        self.fc = nn.Linear(in_features, out_features, bias=False)\n",
        "    def forward(self, x, labels):\n",
        "        assert len(x) == len(labels)\n",
        "        assert torch.min(labels) >= 0\n",
        "        assert torch.max(labels) < self.out_features\n",
        "        m = torch.tensor([[self.ml if lbl in live_lbls else self.ms for lbl in labels]]).to(device)\n",
        "        self.fc.weight.data = F.normalize(self.fc.weight.data, p=2, dim=1)\n",
        "        x = F.normalize(x, p=2, dim=1)\n",
        "        wf = self.fc(x)\n",
        "        out = F.softmax(self.s*wf)\n",
        "        numerator = self.s * (torch.diagonal(wf.transpose(0, 1)[labels]) - m)\n",
        "        excl = torch.cat([torch.cat((wf[i, :y], wf[i, y+1:])).unsqueeze(0) for i, y in enumerate(labels)], dim=0)\n",
        "        denominator = torch.exp(numerator) + torch.sum(torch.exp(self.s * excl), dim=1)\n",
        "        L = numerator - torch.log(denominator)\n",
        "        return out, -torch.mean(L)"
      ]
    },
    {
      "cell_type": "code",
      "source": [
        "from torchvision.models.resnet import resnet18\n",
        "\n",
        "class SiameseNetwork(nn.Module):\n",
        "    def __init__(self):\n",
        "        super(SiameseNetwork, self).__init__()\n",
        "        self.encoder = resnet18(pretrained=True)\n",
        "        self.encoder.requires_grad = False\n",
        "        self.encoder.fc = nn.Sequential()\n",
        "        self.ams = AsymAdditiveMarginSoftmax(512,9)\n",
        "    def forward_once(self,input,labels):\n",
        "        f = self.encoder(input)\n",
        "        out, loss = self.ams(f,labels)\n",
        "        return out, f, loss\n",
        "    \n",
        "    def forward(self, input1, input2,labels):\n",
        "        out1, f1, loss1 = self.forward_once(input1,labels)\n",
        "        out2, f2, loss2 = self.forward_once(input2,labels)\n",
        "        f1_norm = F.normalize(f1,p=2,dim=1)\n",
        "        f2_norm = F.normalize(f2,p=2,dim=1)\n",
        "        loss =  loss1 + loss2 + torch.mean(torch.norm(f1_norm-f2_norm))\n",
        "        return out1, out2, loss"
      ],
      "metadata": {
        "id": "d0qVV94dc6XS"
      },
      "execution_count": 16,
      "outputs": []
    },
    {
      "cell_type": "code",
      "execution_count": 17,
      "metadata": {
        "id": "6c1k0XKljEVJ"
      },
      "outputs": [],
      "source": [
        "from torch.utils.data import Dataset\n",
        "from PIL import Image\n",
        "class SiameseNetworkDataset(Dataset):\n",
        "    def __init__(self,imageFolderDataset,transform):\n",
        "        self.imageFolderDataset = imageFolderDataset    \n",
        "        self.transform = transform\n",
        "    def __getitem__(self,index):   \n",
        "        data = self.imageFolderDataset.imgs[index]\n",
        "        img = Image.open(data[0])\n",
        "        img0 = self.transform[0](img)\n",
        "        img1 = self.transform[1](img)\n",
        "        return img0, img1, data[1]\n",
        "    def __len__(self):\n",
        "        return len(self.imageFolderDataset.imgs)\n",
        "class TestDataset(Dataset):\n",
        "    def __init__(self,imageFolderDataset,transform):\n",
        "        self.imageFolderDataset = imageFolderDataset    \n",
        "        self.transform = transform\n",
        "    def __getitem__(self,index):   \n",
        "        data = self.imageFolderDataset.imgs[index]\n",
        "        img = Image.open(data[0])\n",
        "        img = self.transform(img)\n",
        "        return img, data[1]\n",
        "    def __len__(self):\n",
        "        return len(self.imageFolderDataset.imgs)"
      ]
    },
    {
      "cell_type": "code",
      "execution_count": 18,
      "metadata": {
        "id": "TkEIvR5ijH4S"
      },
      "outputs": [],
      "source": [
        "from torchvision.transforms.transforms import CenterCrop\n",
        "import time\n",
        "import copy\n",
        "from torchvision import datasets, transforms\n",
        "import os\n",
        "import torch\n",
        "\n",
        "data_transforms = {\n",
        "    'train': [\n",
        "        transforms.Compose([\n",
        "          transforms.RandomRotation(180),\n",
        "          transforms.RandomHorizontalFlip(p=0.5),\n",
        "          transforms.RandomCrop(100),\n",
        "          transforms.ToTensor(),\n",
        "        ]),\n",
        "        transforms.Compose([\n",
        "          transforms.RandomRotation(180),\n",
        "          transforms.RandomHorizontalFlip(p=0.5),\n",
        "          transforms.RandomCrop(100),\n",
        "          transforms.ToTensor(),\n",
        "        ]),\n",
        "    ],\n",
        "    'test': transforms.Compose([\n",
        "          transforms.RandomRotation(180),\n",
        "          transforms.RandomHorizontalFlip(p=0.5),\n",
        "          transforms.RandomCrop(100),\n",
        "          transforms.ToTensor(),\n",
        "        ]),\n",
        "}\n",
        "data_dir = '/content/drive/MyDrive/casia'\n",
        "image_datasets = {\n",
        "    'train': datasets.ImageFolder(os.path.join(data_dir, 'train')),\n",
        "     'test': datasets.ImageFolder(os.path.join(data_dir, 'test'))\n",
        "}\n",
        "siameseDataset = SiameseNetworkDataset(image_datasets['train'],data_transforms['train'])\n",
        "testDataset = TestDataset(image_datasets['test'], data_transforms['test'])\n",
        "dataloaders = {\n",
        "    'train': torch.utils.data.DataLoader(siameseDataset,shuffle=True,num_workers=2),\n",
        "    'test': torch.utils.data.DataLoader(testDataset,shuffle=True,num_workers=2)\n",
        "}\n",
        "dataset_sizes = {x: len(image_datasets[x]) for x in ['train','test']}\n",
        "class_names = image_datasets['train'].classes"
      ]
    },
    {
      "cell_type": "code",
      "execution_count": 19,
      "metadata": {
        "id": "MU3b90pVwn4Z"
      },
      "outputs": [],
      "source": [
        "def imshow(img, text=None):\n",
        "    npimg = img.numpy()\n",
        "    plt.axis(\"off\")\n",
        "    if text:\n",
        "        plt.text(75, 8, text, style='italic',fontweight='bold',\n",
        "            bbox={'facecolor':'white', 'alpha':0.8, 'pad':10})\n",
        "        \n",
        "    plt.imshow(np.transpose(npimg, (1, 2, 0)))\n",
        "    plt.show()    \n",
        "\n",
        "def show_plot(iteration,loss):\n",
        "    plt.plot(iteration,loss)\n",
        "    plt.show()"
      ]
    },
    {
      "cell_type": "code",
      "execution_count": 20,
      "metadata": {
        "id": "-TkCM5Z-wTac",
        "colab": {
          "base_uri": "https://localhost:8080/",
          "height": 132
        },
        "outputId": "48b96bdf-88ab-4509-d501-e4739f3251f6"
      },
      "outputs": [
        {
          "output_type": "display_data",
          "data": {
            "text/plain": [
              "<Figure size 432x288 with 1 Axes>"
            ],
            "image/png": "[encoded data removed]"
          },
          "metadata": {
            "needs_background": "light"
          }
        },
        {
          "output_type": "stream",
          "name": "stdout",
          "text": [
            "[5 6 3 5 7 4 8 3]\n"
          ]
        }
      ],
      "source": [
        "vis_dataloader = torch.utils.data.DataLoader(siameseDataset,\n",
        "                        shuffle=True,\n",
        "                        num_workers=2,\n",
        "                        batch_size=8)\n",
        "example_batch = next(iter(vis_dataloader))\n",
        "concatenated = torch.cat((example_batch[0], example_batch[1]),0)\n",
        "imshow(torchvision.utils.make_grid(concatenated))\n",
        "print(example_batch[2].numpy().reshape(-1))"
      ]
    },
    {
      "cell_type": "code",
      "source": [
        "vis_dataloader = torch.utils.data.DataLoader(testDataset,\n",
        "                        shuffle=True,\n",
        "                        num_workers=2,\n",
        "                        batch_size=8)\n",
        "example_batch = next(iter(vis_dataloader))\n",
        "concatenated = example_batch[0]\n",
        "imshow(torchvision.utils.make_grid(concatenated))\n",
        "print(example_batch[1].numpy().reshape(-1))"
      ],
      "metadata": {
        "id": "4ssplXYqDIaN",
        "colab": {
          "base_uri": "https://localhost:8080/",
          "height": 90
        },
        "outputId": "c6c8801d-828f-4479-f90e-68656566c69e"
      },
      "execution_count": 21,
      "outputs": [
        {
          "output_type": "display_data",
          "data": {
            "text/plain": [
              "<Figure size 432x288 with 1 Axes>"
            ],
            "image/png": "[encoded data removed]"
          },
          "metadata": {
            "needs_background": "light"
          }
        },
        {
          "output_type": "stream",
          "name": "stdout",
          "text": [
            "[2 7 5 2 6 6 2 8]\n"
          ]
        }
      ]
    },
    {
      "cell_type": "code",
      "source": [
        "loss_history_train = []\n",
        "loss_history_test = []\n",
        "acc_history_train = []\n",
        "acc_history_test = []"
      ],
      "metadata": {
        "id": "i86Fz9nGfzXM"
      },
      "execution_count": 25,
      "outputs": []
    },
    {
      "cell_type": "code",
      "execution_count": null,
      "metadata": {
        "id": "ZIVyvlOcjU9w",
        "colab": {
          "base_uri": "https://localhost:8080/"
        },
        "outputId": "8e0176e3-7d79-4a4c-e848-7fd712dba74d"
      },
      "outputs": [
        {
          "output_type": "stream",
          "name": "stdout",
          "text": [
            "Epoch 1/200\n",
            "----------------------------------------\n"
          ]
        },
        {
          "output_type": "stream",
          "name": "stderr",
          "text": [
            "/usr/local/lib/python3.7/dist-packages/ipykernel_launcher.py:23: UserWarning: Implicit dimension choice for softmax has been deprecated. Change the call to include dim=X as an argument.\n"
          ]
        },
        {
          "output_type": "stream",
          "name": "stdout",
          "text": [
            "train Loss: 19.3015 Acc: 0.1222\n",
            "test Loss: 10.2233 Acc: 0.1111\n",
            "\n",
            "Epoch 2/200\n",
            "----------------------------------------\n",
            "train Loss: 18.7525 Acc: 0.1389\n",
            "test Loss: 8.8522 Acc: 0.2062\n",
            "\n",
            "Epoch 3/200\n",
            "----------------------------------------\n",
            "train Loss: 18.3327 Acc: 0.1667\n",
            "test Loss: 8.7024 Acc: 0.2173\n",
            "\n",
            "Epoch 4/200\n",
            "----------------------------------------\n",
            "train Loss: 18.0328 Acc: 0.1963\n",
            "test Loss: 9.4142 Acc: 0.1975\n",
            "\n",
            "Epoch 5/200\n",
            "----------------------------------------\n",
            "train Loss: 17.8940 Acc: 0.2074\n",
            "test Loss: 8.4071 Acc: 0.2481\n",
            "\n",
            "Epoch 6/200\n",
            "----------------------------------------\n",
            "train Loss: 17.6007 Acc: 0.2537\n",
            "test Loss: 8.8876 Acc: 0.2617\n",
            "\n",
            "Epoch 7/200\n",
            "----------------------------------------\n",
            "train Loss: 17.4767 Acc: 0.2722\n",
            "test Loss: 8.4048 Acc: 0.3025\n",
            "\n",
            "Epoch 8/200\n",
            "----------------------------------------\n",
            "train Loss: 17.2967 Acc: 0.3093\n",
            "test Loss: 9.3758 Acc: 0.1926\n",
            "\n",
            "Epoch 9/200\n",
            "----------------------------------------\n",
            "train Loss: 16.8644 Acc: 0.3259\n",
            "test Loss: 7.8641 Acc: 0.3741\n",
            "\n",
            "Epoch 10/200\n",
            "----------------------------------------\n",
            "train Loss: 16.7102 Acc: 0.3333\n",
            "test Loss: 8.1593 Acc: 0.2790\n",
            "\n",
            "Epoch 11/200\n",
            "----------------------------------------\n",
            "train Loss: 16.8246 Acc: 0.3296\n",
            "test Loss: 7.1376 Acc: 0.3914\n",
            "\n",
            "Epoch 12/200\n",
            "----------------------------------------\n",
            "train Loss: 16.3662 Acc: 0.3259\n",
            "test Loss: 9.0840 Acc: 0.3185\n",
            "\n",
            "Epoch 13/200\n",
            "----------------------------------------\n",
            "train Loss: 16.3256 Acc: 0.3426\n",
            "test Loss: 6.8387 Acc: 0.4086\n",
            "\n",
            "Epoch 14/200\n",
            "----------------------------------------\n",
            "train Loss: 16.0934 Acc: 0.3463\n",
            "test Loss: 10.4708 Acc: 0.3074\n",
            "\n",
            "Epoch 15/200\n",
            "----------------------------------------\n",
            "train Loss: 15.9183 Acc: 0.3704\n",
            "test Loss: 7.8157 Acc: 0.3235\n",
            "\n",
            "Epoch 16/200\n",
            "----------------------------------------\n",
            "train Loss: 15.8270 Acc: 0.3537\n",
            "test Loss: 8.7603 Acc: 0.3667\n",
            "\n",
            "Epoch 17/200\n",
            "----------------------------------------\n",
            "train Loss: 15.3888 Acc: 0.3963\n",
            "test Loss: 7.5943 Acc: 0.3247\n",
            "\n",
            "Epoch 18/200\n",
            "----------------------------------------\n",
            "train Loss: 15.7005 Acc: 0.3759\n",
            "test Loss: 9.1690 Acc: 0.2914\n",
            "\n",
            "Epoch 19/200\n",
            "----------------------------------------\n",
            "train Loss: 14.9831 Acc: 0.3944\n",
            "test Loss: 8.5705 Acc: 0.2765\n",
            "\n",
            "Epoch 20/200\n",
            "----------------------------------------\n",
            "train Loss: 15.4143 Acc: 0.3741\n",
            "test Loss: 9.4846 Acc: 0.2420\n",
            "\n",
            "Epoch 21/200\n",
            "----------------------------------------\n",
            "train Loss: 15.0825 Acc: 0.4019\n",
            "test Loss: 7.0646 Acc: 0.3815\n",
            "\n",
            "Epoch 22/200\n",
            "----------------------------------------\n",
            "train Loss: 14.9821 Acc: 0.3963\n",
            "test Loss: 9.9047 Acc: 0.2691\n",
            "\n",
            "Epoch 23/200\n",
            "----------------------------------------\n",
            "train Loss: 14.7864 Acc: 0.4019\n",
            "test Loss: 6.7842 Acc: 0.4160\n",
            "\n",
            "Epoch 24/200\n",
            "----------------------------------------\n",
            "train Loss: 14.3067 Acc: 0.4167\n",
            "test Loss: 6.0597 Acc: 0.4617\n",
            "\n",
            "Epoch 25/200\n",
            "----------------------------------------\n",
            "train Loss: 14.3892 Acc: 0.4315\n",
            "test Loss: 7.1144 Acc: 0.4333\n",
            "\n",
            "Epoch 26/200\n",
            "----------------------------------------\n",
            "train Loss: 14.0775 Acc: 0.4630\n",
            "test Loss: 6.3136 Acc: 0.4506\n",
            "\n",
            "Epoch 27/200\n",
            "----------------------------------------\n",
            "train Loss: 14.0711 Acc: 0.4593\n",
            "test Loss: 8.0260 Acc: 0.3741\n",
            "\n",
            "Epoch 28/200\n",
            "----------------------------------------\n",
            "train Loss: 13.9384 Acc: 0.4389\n",
            "test Loss: 6.5405 Acc: 0.4877\n",
            "\n",
            "Epoch 29/200\n",
            "----------------------------------------\n",
            "train Loss: 13.3541 Acc: 0.4704\n",
            "test Loss: 6.2987 Acc: 0.5160\n",
            "\n",
            "Epoch 30/200\n",
            "----------------------------------------\n",
            "train Loss: 13.0349 Acc: 0.4833\n",
            "test Loss: 8.7648 Acc: 0.4111\n",
            "\n",
            "Epoch 31/200\n",
            "----------------------------------------\n",
            "train Loss: 13.8882 Acc: 0.4352\n",
            "test Loss: 6.3633 Acc: 0.5074\n",
            "\n",
            "Epoch 32/200\n",
            "----------------------------------------\n",
            "train Loss: 12.4102 Acc: 0.4907\n",
            "test Loss: 7.7330 Acc: 0.3605\n",
            "\n",
            "Epoch 33/200\n",
            "----------------------------------------\n",
            "train Loss: 12.8817 Acc: 0.4907\n",
            "test Loss: 8.2598 Acc: 0.3864\n",
            "\n",
            "Epoch 34/200\n",
            "----------------------------------------\n",
            "train Loss: 13.0066 Acc: 0.4519\n",
            "test Loss: 5.8463 Acc: 0.5198\n",
            "\n",
            "Epoch 35/200\n",
            "----------------------------------------\n",
            "train Loss: 12.2772 Acc: 0.5222\n",
            "test Loss: 7.0981 Acc: 0.5025\n",
            "\n",
            "Epoch 36/200\n",
            "----------------------------------------\n",
            "train Loss: 12.6098 Acc: 0.4704\n",
            "test Loss: 7.3055 Acc: 0.4259\n",
            "\n",
            "Epoch 37/200\n",
            "----------------------------------------\n",
            "train Loss: 11.9009 Acc: 0.5093\n",
            "test Loss: 5.1451 Acc: 0.5407\n",
            "\n",
            "Epoch 38/200\n",
            "----------------------------------------\n",
            "train Loss: 11.7892 Acc: 0.4963\n",
            "test Loss: 5.9496 Acc: 0.5321\n",
            "\n",
            "Epoch 39/200\n",
            "----------------------------------------\n",
            "train Loss: 12.7857 Acc: 0.4815\n",
            "test Loss: 5.9061 Acc: 0.4568\n",
            "\n",
            "Epoch 40/200\n",
            "----------------------------------------\n",
            "train Loss: 11.2537 Acc: 0.5407\n",
            "test Loss: 5.2977 Acc: 0.5617\n",
            "\n",
            "Epoch 41/200\n",
            "----------------------------------------\n"
          ]
        }
      ],
      "source": [
        "def train_model(model, optimizer, scheduler, num_epochs):\n",
        "    since = time.time()\n",
        "    best_model_wts = copy.deepcopy(model.state_dict())\n",
        "    best_acc = 0.0\n",
        "\n",
        "\n",
        "    for epoch in range(num_epochs):\n",
        "        print(f'Epoch {epoch+1}/{num_epochs}')\n",
        "        print('-' * 40)\n",
        "        for phase in ['train' , 'test']:\n",
        "            if phase == 'train':\n",
        "                model.train()\n",
        "            running_loss = 0.0\n",
        "            running_corrects = 0\n",
        "            for dataloader in dataloaders[phase]:\n",
        "                optimizer.zero_grad()\n",
        "                if phase == 'train':\n",
        "                  inputs1, inputs2, labels = dataloader\n",
        "                  inputs1 = inputs1.to(device)\n",
        "                  inputs2 = inputs2.to(device)\n",
        "                  labels = labels.to(device)\n",
        "                  out1, out2, loss = model(inputs1, inputs2, labels)\n",
        "                  loss.backward()\n",
        "                  optimizer.step()\n",
        "                  _, preds = torch.max(out1,1)\n",
        "                  running_corrects += torch.sum(preds == labels.data)\n",
        "                  running_loss += loss.item() * inputs1.size(0)\n",
        "                else:\n",
        "                  inputs, labels = dataloader\n",
        "                  inputs = inputs.to(device)\n",
        "                  labels = labels.to(device)\n",
        "                  with torch.no_grad():\n",
        "                    out, f, loss = net.forward_once(inputs, labels)\n",
        "                  _, preds = torch.max(out,1)\n",
        "                  running_corrects += torch.sum(preds == labels.data)\n",
        "                  running_loss += loss.item() * inputs.size(0)\n",
        "            epoch_loss = running_loss / dataset_sizes[phase]\n",
        "            epoch_acc = running_corrects / dataset_sizes[phase]\n",
        "            if phase == 'train':\n",
        "              scheduler.step()\n",
        "              loss_history_train.append(epoch_loss)\n",
        "              acc_history_train.append(epoch_acc.cpu().detach().numpy())\n",
        "            else:\n",
        "              loss_history_test.append(epoch_loss)\n",
        "              acc_history_test.append(epoch_acc.cpu().detach().numpy())\n",
        "            print(f'{phase} Loss: {epoch_loss:.4f} Acc: {epoch_acc:.4f}')\n",
        "\n",
        "            if phase == 'test' and epoch_acc > best_acc:\n",
        "                best_acc = epoch_acc\n",
        "                best_model_wts = copy.deepcopy(model.state_dict())\n",
        "\n",
        "        print()\n",
        "\n",
        "    time_elapsed = time.time() - since\n",
        "    print(f'Training complete in {time_elapsed // 60:.0f}m {time_elapsed % 60:.0f}s')\n",
        "    print(f'Best val Acc: {best_acc:4f}')\n",
        "    model.load_state_dict(best_model_wts)\n",
        "    return model\n",
        "net = SiameseNetwork().to(device)\n",
        "optimizer = optim.SGD(net.parameters(), lr = 0.002 )\n",
        "exp_lr_scheduler = lr_scheduler.StepLR(optimizer, step_size=90, gamma=0.5)\n",
        "net = train_model(net,optimizer,exp_lr_scheduler,200)\n"
      ]
    },
    {
      "cell_type": "code",
      "source": [
        "plt.plot(loss_history_train,c='r')\n",
        "plt.plot(loss_history_test,c='b')\n",
        "plt.show()"
      ],
      "metadata": {
        "id": "1flLH1vgbqB1"
      },
      "execution_count": null,
      "outputs": []
    },
    {
      "cell_type": "code",
      "source": [
        "plt.plot(acc_history_train,c='r')\n",
        "plt.plot(acc_history_test,c='b')\n",
        "plt.show()"
      ],
      "metadata": {
        "id": "gxJqhKHgiLt6"
      },
      "execution_count": null,
      "outputs": []
    },
    {
      "cell_type": "code",
      "execution_count": null,
      "metadata": {
        "id": "yjo-swx6Nrxc"
      },
      "outputs": [],
      "source": [
        "class PatchNet(nn.Module):\n",
        "    def __init__(self):\n",
        "        super(PatchNet,self).__init__()\n",
        "        self.encoder = resnet18()\n",
        "        self.encoder.fc = nn.Sequential()\n",
        "        self.fc = nn.Linear(512,9, bias=False)\n",
        "    def forward(self,x):\n",
        "        x = self.encoder(x)\n",
        "        self.fc.weight.data = F.normalize(self.fc.weight.data, p=2, dim=1) \n",
        "\n",
        "        x = F.normalize(x, p=2, dim=1)\n",
        "\n",
        "        wf = self.fc(x)\n",
        "        x = F.softmax(30 * wf)\n",
        "        return x\n",
        "\n",
        "model = PatchNet().cuda()\n",
        "model.encoder = net.encoder\n",
        "model.fc = net.ams.fc\n",
        "torch.save(model,'/content/drive/MyDrive/casia/patchnet.pt')"
      ]
    },
    {
      "cell_type": "code",
      "execution_count": null,
      "metadata": {
        "id": "azDNvnZcaao7"
      },
      "outputs": [],
      "source": [
        "running_corrects = 0\n",
        "for i, (img1, label) in enumerate(dataloaders['test']):\n",
        "        img1, label = img1.cuda(), label.cuda()\n",
        "        with torch.no_grad():\n",
        "            output = model(img1)\n",
        "            _, preds = torch.max(output,1)\n",
        "        running_corrects += torch.sum(preds == label.data)\n",
        "acc = running_corrects/dataset_sizes['test']\n",
        "print(f'Acc: {acc:.4f}')\n",
        "  "
      ]
    },
    {
      "cell_type": "code",
      "execution_count": null,
      "metadata": {
        "id": "9aSeWuglbEDu"
      },
      "outputs": [],
      "source": [
        ""
      ]
    }
  ],
  "metadata": {
    "accelerator": "GPU",
    "colab": {
      "collapsed_sections": [],
      "name": "PatchNet.ipynb",
      "provenance": []
    },
    "gpuClass": "standard",
    "kernelspec": {
      "display_name": "Python 3",
      "name": "python3"
    },
    "language_info": {
      "name": "python"
    }
  },
  "nbformat": 4,
  "nbformat_minor": 0
}